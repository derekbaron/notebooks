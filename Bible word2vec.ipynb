{
 "cells": [
  {
   "cell_type": "markdown",
   "metadata": {},
   "source": [
    "# Word2Vec on Bible Data\n",
    "\n",
    "Playing around with machine learning word embeddings using the Bible as a data source.\n",
    "An excellent tutorial for word embeddings can be found at http://jalammar.github.io/illustrated-word2vec/.\n",
    "\n",
    "1. Read bible data into table. 1 verse per row. A verse is treated as a sentence for training the model.\n",
    "2. Normalize verses into tokens.\n",
    "3. Train w2v model on the tokens."
   ]
  },
  {
   "cell_type": "code",
   "execution_count": 2,
   "metadata": {},
   "outputs": [
    {
     "data": {
      "text/html": [
       "<div>\n",
       "<style scoped>\n",
       "    .dataframe tbody tr th:only-of-type {\n",
       "        vertical-align: middle;\n",
       "    }\n",
       "\n",
       "    .dataframe tbody tr th {\n",
       "        vertical-align: top;\n",
       "    }\n",
       "\n",
       "    .dataframe thead th {\n",
       "        text-align: right;\n",
       "    }\n",
       "</style>\n",
       "<table border=\"1\" class=\"dataframe\">\n",
       "  <thead>\n",
       "    <tr style=\"text-align: right;\">\n",
       "      <th></th>\n",
       "      <th>id</th>\n",
       "      <th>b</th>\n",
       "      <th>c</th>\n",
       "      <th>v</th>\n",
       "      <th>t</th>\n",
       "    </tr>\n",
       "  </thead>\n",
       "  <tbody>\n",
       "    <tr>\n",
       "      <th>22517</th>\n",
       "      <td>31001007</td>\n",
       "      <td>31</td>\n",
       "      <td>1</td>\n",
       "      <td>7</td>\n",
       "      <td>All the men of your alliance have brought you ...</td>\n",
       "    </tr>\n",
       "    <tr>\n",
       "      <th>3979</th>\n",
       "      <td>4009014</td>\n",
       "      <td>4</td>\n",
       "      <td>9</td>\n",
       "      <td>14</td>\n",
       "      <td>If a foreigner lives among you, and desires to...</td>\n",
       "    </tr>\n",
       "    <tr>\n",
       "      <th>5032</th>\n",
       "      <td>5004028</td>\n",
       "      <td>5</td>\n",
       "      <td>4</td>\n",
       "      <td>28</td>\n",
       "      <td>There you shall serve gods, the work of men's ...</td>\n",
       "    </tr>\n",
       "  </tbody>\n",
       "</table>\n",
       "</div>"
      ],
      "text/plain": [
       "             id   b  c   v                                                  t\n",
       "22517  31001007  31  1   7  All the men of your alliance have brought you ...\n",
       "3979    4009014   4  9  14  If a foreigner lives among you, and desires to...\n",
       "5032    5004028   5  4  28  There you shall serve gods, the work of men's ..."
      ]
     },
     "execution_count": 2,
     "metadata": {},
     "output_type": "execute_result"
    }
   ],
   "source": [
    "import pandas as pd, spacy, gensim, re\n",
    "bible = pd.read_csv(\"https://github.com/scrollmapper/bible_databases/raw/master/csv/t_web.csv\")\n",
    "bible.sample(3)"
   ]
  },
  {
   "cell_type": "markdown",
   "metadata": {},
   "source": [
    "The verse texts are in the \"t\" column"
   ]
  },
  {
   "cell_type": "code",
   "execution_count": 3,
   "metadata": {},
   "outputs": [
    {
     "name": "stdout",
     "output_type": "stream",
     "text": [
      "[['beginning', 'god', 'god', 'hebrew', 'letter', 'aleph', 'tav', 'letter', 'hebrew', 'alphabet', 'grammatical', 'marker', 'create', 'heavens', 'earth'], ['earth', 'formless', 'darkness', 'surface', 'deep', 'god', 'spirit', 'hover', 'surface', 'water']]\n"
     ]
    }
   ],
   "source": [
    "# Using spacy NLP to normalize/lemmatize/tokenize the verses.\n",
    "nlp = spacy.load('en_core_web_sm', disable=['ner', 'parser'])\n",
    "\n",
    "def cleaning(doc):\n",
    "    txt = [token.lemma_ for token in doc if not token.is_stop]\n",
    "    if len(txt) > 2:\n",
    "        return txt\n",
    "# Remove punctuation, make everything lowercase\n",
    "brief_cleaning = (re.sub(\"[^A-Za-z']+\", ' ', str(row)).lower() for row in bible.t)\n",
    "corp = [cleaning(doc) for doc in nlp.pipe(brief_cleaning, batch_size=5000, n_threads=-1) if doc != None]\n",
    "corp = [n for n in corp if n != None]\n",
    "print(corp[:2])"
   ]
  },
  {
   "cell_type": "code",
   "execution_count": 4,
   "metadata": {},
   "outputs": [],
   "source": [
    "import multiprocessing\n",
    "from gensim.models import Word2Vec\n",
    "w2v_model = Word2Vec(min_count=5,\n",
    "                     window=10,\n",
    "                     size=200,\n",
    "                     sample=0, \n",
    "                     alpha=0.025, min_alpha=0.001,\n",
    "                     workers=1)\n",
    "\n",
    "w2v_model.build_vocab(corp, progress_per=10000, update=False)\n",
    "w2v_model.train(corp, total_examples=w2v_model.corpus_count, epochs=w2v_model.epochs)\n",
    "w2v_model.init_sims(replace=True)"
   ]
  },
  {
   "cell_type": "markdown",
   "metadata": {},
   "source": [
    "# Results\n",
    "\n",
    "Let's examine the results. We'll look at the similarity between words.\n",
    "\n",
    " First, find the terms most similar to \"Jesus\" and \"Christ.\" The pairings are very interesting. \"Ask\" with \"answer.\" \"Listen\" with \"testify.\" "
   ]
  },
  {
   "cell_type": "code",
   "execution_count": 5,
   "metadata": {},
   "outputs": [
    {
     "data": {
      "text/plain": [
       "[('ask', 0.882995069026947),\n",
       " ('answer', 0.866520345211029),\n",
       " ('listen', 0.8625555038452148),\n",
       " ('testify', 0.8625285029411316),\n",
       " ('gospel', 0.8615338802337646),\n",
       " ('believe', 0.8590909242630005),\n",
       " ('inquire', 0.8554442524909973),\n",
       " ('fellowship', 0.8421381711959839),\n",
       " ('think', 0.8364361524581909),\n",
       " ('confession', 0.8305535316467285)]"
      ]
     },
     "execution_count": 5,
     "metadata": {},
     "output_type": "execute_result"
    }
   ],
   "source": [
    "w2v_model.wv.most_similar(positive=[\"jesus\", \"christ\"])"
   ]
  },
  {
   "cell_type": "markdown",
   "metadata": {},
   "source": [
    "### Similar with Joy\n",
    "What's semantically similar with joy? What words share a similar context? **Salvation, justice, hope**. Good things. Joyful things."
   ]
  },
  {
   "cell_type": "code",
   "execution_count": 6,
   "metadata": {},
   "outputs": [
    {
     "data": {
      "text/plain": [
       "[('salvation', 0.940564751625061),\n",
       " ('justice', 0.9337260127067566),\n",
       " ('glad', 0.9284518957138062),\n",
       " ('hope', 0.923967719078064),\n",
       " ('perfect', 0.9228248596191406),\n",
       " ('world', 0.9227786064147949),\n",
       " ('selah', 0.9190787672996521),\n",
       " ('mercy', 0.9159674048423767),\n",
       " ('righteousness', 0.9137004017829895),\n",
       " ('repent', 0.9014021754264832)]"
      ]
     },
     "execution_count": 6,
     "metadata": {},
     "output_type": "execute_result"
    }
   ],
   "source": [
    "w2v_model.wv.most_similar(positive=[\"rejoice\", \"joy\"])"
   ]
  },
  {
   "cell_type": "markdown",
   "metadata": {},
   "source": [
    "### Doesn't match\n",
    "Which of these words is not like the others? ***Anger*** is certainly not one of the fruits of the spirit."
   ]
  },
  {
   "cell_type": "code",
   "execution_count": 8,
   "metadata": {},
   "outputs": [
    {
     "data": {
      "text/plain": [
       "'anger'"
      ]
     },
     "execution_count": 8,
     "metadata": {},
     "output_type": "execute_result"
    }
   ],
   "source": [
    "w2v_model.wv.doesnt_match(['love', 'anger', 'joy', 'patience', 'peace'])"
   ]
  },
  {
   "cell_type": "markdown",
   "metadata": {},
   "source": [
    "### Analogy\n",
    "\n",
    "Using postive and negative examples to find analogy. A is to B as C is to D.\n",
    "\n",
    "**Covenant** is to **promise** as **law** is to? ... **commandment** or *statue* or *ordinance*.\n",
    " \n",
    " I really like these results. They seem to capture the essence of the concept of \"law.\""
   ]
  },
  {
   "cell_type": "code",
   "execution_count": 9,
   "metadata": {},
   "outputs": [
    {
     "data": {
      "text/plain": [
       "[('commandment', 0.8323131203651428),\n",
       " ('statute', 0.8309653401374817),\n",
       " ('ordinance', 0.829348087310791),\n",
       " ('testimony', 0.7592933177947998),\n",
       " ('accord', 0.7574331760406494)]"
      ]
     },
     "execution_count": 9,
     "metadata": {},
     "output_type": "execute_result"
    }
   ],
   "source": [
    "w2v_model.wv.most_similar(positive=[\"covenant\", \"law\"], negative=[\"promise\"], topn=5)"
   ]
  },
  {
   "cell_type": "markdown",
   "metadata": {},
   "source": [
    "**Christ** is to **Jesus** as **Apostle** is to **Peter.**"
   ]
  },
  {
   "cell_type": "code",
   "execution_count": 20,
   "metadata": {},
   "outputs": [
    {
     "data": {
      "text/plain": [
       "[('apostle', 0.9046498537063599),\n",
       " ('inquire', 0.9010353088378906),\n",
       " ('faithful', 0.894794225692749),\n",
       " ('tr', 0.8869181871414185),\n",
       " ('beg', 0.8834301829338074)]"
      ]
     },
     "execution_count": 20,
     "metadata": {},
     "output_type": "execute_result"
    }
   ],
   "source": [
    "w2v_model.wv.most_similar(positive=[\"christ\", \"peter\"], negative=[\"jesus\"], topn=5)"
   ]
  },
  {
   "cell_type": "markdown",
   "metadata": {},
   "source": [
    "### Apostles"
   ]
  },
  {
   "cell_type": "code",
   "execution_count": 11,
   "metadata": {},
   "outputs": [
    {
     "data": {
      "text/plain": [
       "[('john', 0.9560213088989258),\n",
       " ('james', 0.9497538805007935),\n",
       " ('zebedee', 0.9342719316482544),\n",
       " ('iscariot', 0.9204025268554688),\n",
       " ('judas', 0.9202483892440796)]"
      ]
     },
     "execution_count": 11,
     "metadata": {},
     "output_type": "execute_result"
    }
   ],
   "source": [
    "w2v_model.wv.most_similar(positive=[\"peter\", \"simon\", \"andrew\"])[:5]"
   ]
  }
 ],
 "metadata": {
  "kernelspec": {
   "display_name": "Python 3",
   "language": "python",
   "name": "python3"
  },
  "language_info": {
   "codemirror_mode": {
    "name": "ipython",
    "version": 3
   },
   "file_extension": ".py",
   "mimetype": "text/x-python",
   "name": "python",
   "nbconvert_exporter": "python",
   "pygments_lexer": "ipython3",
   "version": "3.8.5"
  }
 },
 "nbformat": 4,
 "nbformat_minor": 4
}
